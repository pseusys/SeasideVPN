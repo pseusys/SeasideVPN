{
 "cells": [
  {
   "cell_type": "markdown",
   "metadata": {},
   "source": [
    "# PORT protocol showcase\n",
    "\n",
    "This notebook shows `PORT` protocol from the network perspective, for comparison with `TYPHOON`.\n",
    "\n",
    "Some of the system packages required for this notebook, including: `ip-route`, `tc`."
   ]
  },
  {
   "cell_type": "markdown",
   "metadata": {},
   "source": [
    "Use the following cell to configure PORT hyperparameters with environmental variables.\n",
    "\n",
    "> NB! It should be run *prior* to all the other cells, since hyperparameters are being resolved only once upon `PortCore` class import."
   ]
  },
  {
   "cell_type": "code",
   "execution_count": null,
   "metadata": {},
   "outputs": [],
   "source": [
    "from os import environ\n",
    "\n",
    "environ[\"PROTOCOL_NAME\"] = \"port\"\n",
    "environ[\"SEASIDE_LOG_LEVEL\"] = \"DEBUG\"\n",
    "environ[\"PROTOCOL_MIN_TIMEOUT\"] = environ[\"PORT_MIN_TIMEOUT\"] = str(16)\n",
    "environ[\"PROTOCOL_MAX_TIMEOUT\"] = environ[\"PORT_MAX_TIMEOUT\"] = str(32)\n",
    "environ[\"PROTOCOL_DEFAULT_TIMEOUT\"] = environ[\"PORT_DEFAULT_TIMEOUT\"] = str(24)\n",
    "environ[\"PROTOCOL_MIN_NEXT_IN\"] = environ[\"PORT_MIN_NEXT_IN\"] = str(8.0)\n",
    "environ[\"PROTOCOL_MAX_NEXT_IN\"] = environ[\"PORT_MAX_NEXT_IN\"] = str(32.0)\n",
    "environ[\"PROTOCOL_MAX_RETRIES\"] = environ[\"PORT_MAX_RETRIES\"] = str(5)"
   ]
  },
  {
   "cell_type": "markdown",
   "metadata": {},
   "source": [
    "This notebook requires some extra capabilities being applied to your `python` executable and also added to the `JuPyter` server process.\n",
    "Don't worry: everything can be done just in a few steps.\n",
    "\n",
    "> Why are these capabilities needed?\n",
    "> Well, let's say for \"safety\" reasons.\n",
    "> We do not want to apply **tc** (traffic control) commands directly to the loopback interface, right?\n",
    "> That's why we need a pair of virtual interfaces with virtual IPs (`veth`s), so that we can apply fine-grained filters.\n",
    "> And creating these interfaces requires some permissions.\n",
    "\n",
    "First of all, the following cell should be executed before any other notebook cells (it might throw an error!):"
   ]
  },
  {
   "cell_type": "code",
   "execution_count": null,
   "metadata": {},
   "outputs": [],
   "source": [
    "from pathlib import Path\n",
    "from sys import path\n",
    "\n",
    "path.append(str(Path() / \"..\"))\n",
    "\n",
    "from typhoon.utils import configure_ambient_permissions\n",
    "\n",
    "configure_ambient_permissions()"
   ]
  },
  {
   "cell_type": "markdown",
   "metadata": {},
   "source": [
    "If the previous cell has thrown an error, that means that your `python` executable does not have `CAP_NET_ADMIN` and `CAP_NET_RAW` right now.\n",
    "This can be solved by either of these three solutions:\n",
    "\n",
    "1. Run the server in a `Docker` container (either `privileged` or with `CAP_NET_ADMIN` set) - the dockerfile is *not* provided.\n",
    "2. Run the following cell to patch your current python executable (don't forget to run the next cell when you're done!).\n",
    "3. Run the server with `sudo` (might be dangerous and not recommended!).\n",
    "\n",
    "Whatever way you have chosen, the kernel should be restarted."
   ]
  },
  {
   "cell_type": "code",
   "execution_count": null,
   "metadata": {},
   "outputs": [],
   "source": [
    "from typhoon.utils import toggle_network_permissions\n",
    "\n",
    "toggle_network_permissions(True)"
   ]
  },
  {
   "cell_type": "markdown",
   "metadata": {},
   "source": [
    "Run this cell after you finished working with the notebook - it will unpatch you `python` executable."
   ]
  },
  {
   "cell_type": "code",
   "execution_count": null,
   "metadata": {},
   "outputs": [],
   "source": [
    "from typhoon.utils import toggle_network_permissions\n",
    "\n",
    "toggle_network_permissions(False)"
   ]
  },
  {
   "cell_type": "markdown",
   "metadata": {},
   "source": [
    "> NB! In every cell below, only `PORT` packets are considered.\n",
    "> Other `TCP` service packets are also captured, but not decoded.\n",
    "> As a result, all non-`PORT` packets **will be marked as `INVALID`**."
   ]
  },
  {
   "cell_type": "markdown",
   "metadata": {},
   "source": [
    "## What is `PORT`?\n",
    "\n",
    "`PORT` is a `TCP`-based protocol, that ensures connection stability using `TCP_KEEPALIVE`.\n",
    "Whereas some of the `PORT` properties (data packet lengths and contents) are randomized, most of them (`TCP` packet contents and sending time) behave predictably.\n",
    "\n",
    "#### Graph description\n",
    "\n",
    "Packet length will be displayed in bar charts below as *bar heights*.\n",
    "\n",
    "Packet delivery offset is shown on horizontal axis as *offset from the connection termination*.\n",
    "I.e. value of -300000ms means that packet was sent 5 minutes before the connection was closed.\n",
    "\n",
    "Packets that *are not part of `PORT` protocol* (e.g. `TCP` `SYN`, `ACK`, etc.) will be shown and described as **invalid**.\n",
    "\n",
    "### `PORT` guarantees\n",
    "\n",
    "Since `PORT` is TCP-based, **all** the lost or corrupted packets will be retransmitted, it ensures safe data delivery."
   ]
  },
  {
   "cell_type": "markdown",
   "metadata": {},
   "source": [
    "## Ideal connection"
   ]
  },
  {
   "cell_type": "markdown",
   "metadata": {},
   "source": [
    "Simple sanity check here.\n",
    "Client connects to echo server, sends it a small package, receives response, checks it's the same and exits.\n",
    "\n",
    "Client and server exchange initialization packets, than data is transmitted.\n",
    "Apart from that, multiple `TCP`-originated packets are being sent here and there.\n",
    "\n",
    "As a result, a small sequence diagram is produced, showing packet exchange, their direction, size and timestamp."
   ]
  },
  {
   "cell_type": "code",
   "execution_count": null,
   "metadata": {},
   "outputs": [],
   "source": [
    "from sources.protocol.port_socket import PortListener, PortClient\n",
    "from sources.protocol.utils import ProtocolReturnCode\n",
    "\n",
    "from typhoon.utils import GraphConf, sniff, LISTENER_KEY, CLIENT_KEY, USER_TOKEN\n",
    "\n",
    "\n",
    "async def echo_server_callback(user_id: int, data: bytes) -> bytes:\n",
    "    print(f\"Received data from client {user_id}: {data}\")\n",
    "    return data\n",
    "\n",
    "\n",
    "async def success_listener_callback(name: str, token: bytes) -> ProtocolReturnCode:\n",
    "    print(f\"Initialized client '{name}' with token: {token}\")\n",
    "    return ProtocolReturnCode.SUCCESS\n",
    "\n",
    "\n",
    "async with sniff(GraphConf()) as s:\n",
    "    async with PortListener(LISTENER_KEY, s.server_address).ctx(success_listener_callback, echo_server_callback) as l:\n",
    "        async with PortClient(CLIENT_KEY, USER_TOKEN, s.server_address, l.port, s.client_address).ctx() as c:\n",
    "            request = b\"Hi server!\"\n",
    "            await c.write(request)\n",
    "            response = await c.read()\n",
    "            assert(request == response)"
   ]
  },
  {
   "cell_type": "markdown",
   "metadata": {},
   "source": [
    "Stale connection is shown here.\n",
    "Client is connected to server, waits for some time and disappears.\n",
    "Server tries to restore connection, but fails and closes it after some time.\n",
    "\n",
    "Client and server exchange initialization packets, then several successful `TCP` keepalive `ACK`s are being sent (small invalid packets, below 100 bytes in size).\n",
    "Finally, some unsuccessful `ACK`s attempts by server should be present before the connection termination.\n",
    "\n",
    "As a result, a small packet plot is produced, showing packet exchange, their type, size and timestamp."
   ]
  },
  {
   "cell_type": "code",
   "execution_count": null,
   "metadata": {},
   "outputs": [],
   "source": [
    "from asyncio import sleep\n",
    "from os import environ\n",
    "\n",
    "from sources.protocol.port_socket import PortListener, PortClient\n",
    "\n",
    "from typhoon.utils import PlotConf, sniff, LISTENER_KEY, CLIENT_KEY, USER_TOKEN\n",
    "\n",
    "SLEEP_DELAY = (float(environ[\"PORT_MAX_NEXT_IN\"]) + float(environ[\"PORT_MAX_TIMEOUT\"])) * 5\n",
    "TIMEOUT_DELAY = float(environ[\"PORT_MAX_NEXT_IN\"]) * (float(environ[\"PORT_MAX_RETRIES\"]) + 1)\n",
    "\n",
    "\n",
    "async with sniff(PlotConf()) as s:\n",
    "    async with PortListener(LISTENER_KEY, s.server_address).ctx(data_callback=lambda _: None) as l:\n",
    "        async with PortClient(CLIENT_KEY, USER_TOKEN, s.server_address, l.port, s.client_address).ctx(lambda _: None, False) as c:\n",
    "            print(f\"Connection established! Sleeping for {SLEEP_DELAY}...\")\n",
    "            await sleep(SLEEP_DELAY)\n",
    "        print(f\"Connection interrupted! Waiting for {TIMEOUT_DELAY}...\")\n",
    "        await sleep(TIMEOUT_DELAY)"
   ]
  },
  {
   "cell_type": "markdown",
   "metadata": {},
   "source": [
    "Successful connection is shown here.\n",
    "Client is connected to server, they exchange data packets every second.\n",
    "In the end, the connection is terminated successfully.\n",
    "\n",
    "In the beginning two packets should be initialization packets, in the end two packets should be termination packets.\n",
    "In between, multiple data and `TCP` keepalive `ACK` packages should be observable.\n",
    "\n",
    "As a result, a small packet plot is produced, showing packet exchange, their type and size.\n",
    "The receiving time is omitted."
   ]
  },
  {
   "cell_type": "code",
   "execution_count": null,
   "metadata": {},
   "outputs": [],
   "source": [
    "from sources.protocol.port_socket import PortListener, PortClient\n",
    "\n",
    "from typhoon.utils import PlotConf, sniff, SequenceConfig, LISTENER_KEY, CLIENT_KEY, USER_TOKEN\n",
    "\n",
    "CONFIG = SequenceConfig(messages=96, quiet=True, client_sequence=lambda _: 1, server_sequence=lambda _: 0)\n",
    "\n",
    "\n",
    "async with sniff(PlotConf(expand_time=False)) as s:\n",
    "    async with PortListener(LISTENER_KEY, s.server_address).ctx(data_callback=CONFIG.seq_server_callback) as l:\n",
    "        async with PortClient(CLIENT_KEY, USER_TOKEN, s.server_address, l.port, s.client_address).ctx(CONFIG.seq_client_callback) as c:\n",
    "            await CONFIG.process(c)"
   ]
  },
  {
   "cell_type": "markdown",
   "metadata": {},
   "source": [
    "## Network in chaos\n",
    "\n",
    "This section shows how `PORT` protocol behaves under pressure of unfriendly network conditions."
   ]
  },
  {
   "cell_type": "markdown",
   "metadata": {},
   "source": [
    "Here, network conditions are ideal."
   ]
  },
  {
   "cell_type": "code",
   "execution_count": null,
   "metadata": {},
   "outputs": [],
   "source": [
    "from sources.protocol.port_socket import PortListener, PortClient\n",
    "\n",
    "from typhoon.utils import PlotConf, sniff, SequenceConfig, LISTENER_KEY, CLIENT_KEY, USER_TOKEN\n",
    "\n",
    "CONFIG = SequenceConfig()\n",
    "\n",
    "\n",
    "async with sniff(PlotConf()) as s:\n",
    "    async with PortListener(LISTENER_KEY, s.server_address).ctx(data_callback=CONFIG.seq_server_callback) as l:\n",
    "        async with PortClient(CLIENT_KEY, USER_TOKEN, s.server_address, l.port, s.client_address).ctx(CONFIG.seq_client_callback) as c:\n",
    "            await CONFIG.process(c)"
   ]
  },
  {
   "cell_type": "markdown",
   "metadata": {},
   "source": [
    "Here, random jitter between 25 and 175 ms is applied to packets."
   ]
  },
  {
   "cell_type": "code",
   "execution_count": null,
   "metadata": {},
   "outputs": [],
   "source": [
    "from asyncio import sleep\n",
    "\n",
    "from sources.protocol.port_socket import PortListener, PortClient\n",
    "\n",
    "from typhoon.utils import PlotConf, sniff, SequenceConfig, LISTENER_KEY, CLIENT_KEY, USER_TOKEN\n",
    "\n",
    "CONFIG = SequenceConfig()\n",
    "\n",
    "\n",
    "async with sniff(PlotConf(), r\"delay 100ms 75ms\") as s:\n",
    "    async with PortListener(LISTENER_KEY, s.server_address).ctx(data_callback=CONFIG.seq_server_callback) as l:\n",
    "        async with PortClient(CLIENT_KEY, USER_TOKEN, s.server_address, l.port, s.client_address).ctx(CONFIG.seq_client_callback) as c:\n",
    "            await CONFIG.process(c)\n",
    "            await sleep(CONFIG.base_delay() * 4)"
   ]
  },
  {
   "cell_type": "markdown",
   "metadata": {},
   "source": [
    "Here, 30% of packets will be dropped."
   ]
  },
  {
   "cell_type": "code",
   "execution_count": null,
   "metadata": {},
   "outputs": [],
   "source": [
    "from sources.protocol.port_socket import PortListener, PortClient\n",
    "\n",
    "from typhoon.utils import PlotConf, sniff, SequenceConfig, LISTENER_KEY, CLIENT_KEY, USER_TOKEN\n",
    "\n",
    "CONFIG = SequenceConfig()\n",
    "\n",
    "\n",
    "async with sniff(PlotConf(), r\"loss 30%\") as s:\n",
    "    async with PortListener(LISTENER_KEY, s.server_address).ctx(data_callback=CONFIG.seq_server_callback) as l:\n",
    "        async with PortClient(CLIENT_KEY, USER_TOKEN, s.server_address, l.port, s.client_address).ctx(CONFIG.seq_client_callback) as c:\n",
    "            await CONFIG.process(c)"
   ]
  },
  {
   "cell_type": "markdown",
   "metadata": {},
   "source": [
    "Here, 30% of packets will be duplicated."
   ]
  },
  {
   "cell_type": "code",
   "execution_count": null,
   "metadata": {},
   "outputs": [],
   "source": [
    "from sources.protocol.port_socket import PortListener, PortClient\n",
    "\n",
    "from typhoon.utils import PlotConf, sniff, SequenceConfig, LISTENER_KEY, CLIENT_KEY, USER_TOKEN\n",
    "\n",
    "CONFIG = SequenceConfig()\n",
    "\n",
    "\n",
    "async with sniff(PlotConf(), r\"duplicate 30%\") as s:\n",
    "    async with PortListener(LISTENER_KEY, s.server_address).ctx(data_callback=CONFIG.seq_server_callback) as l:\n",
    "        async with PortClient(CLIENT_KEY, USER_TOKEN, s.server_address, l.port, s.client_address).ctx(CONFIG.seq_client_callback) as c:\n",
    "            await CONFIG.process(c)"
   ]
  },
  {
   "cell_type": "markdown",
   "metadata": {},
   "source": [
    "Here, some of the packets will be reordered within a 125ms timeframe."
   ]
  },
  {
   "cell_type": "code",
   "execution_count": null,
   "metadata": {},
   "outputs": [],
   "source": [
    "from asyncio import sleep\n",
    "\n",
    "from sources.protocol.port_socket import PortListener, PortClient\n",
    "\n",
    "from typhoon.utils import PlotConf, sniff, SequenceConfig, LISTENER_KEY, CLIENT_KEY, USER_TOKEN\n",
    "\n",
    "CONFIG = SequenceConfig()\n",
    "\n",
    "\n",
    "async with sniff(PlotConf(), r\"delay 125ms reorder 30% 50%\") as s:\n",
    "    async with PortListener(LISTENER_KEY, s.server_address).ctx(data_callback=CONFIG.seq_server_callback) as l:\n",
    "        async with PortClient(CLIENT_KEY, USER_TOKEN, s.server_address, l.port, s.client_address).ctx(CONFIG.seq_client_callback) as c:\n",
    "            await CONFIG.process(c)\n",
    "            await sleep(CONFIG.base_delay() * 2.5)"
   ]
  },
  {
   "cell_type": "markdown",
   "metadata": {},
   "source": [
    "Here, 30% of packets will be corrupted."
   ]
  },
  {
   "cell_type": "code",
   "execution_count": null,
   "metadata": {},
   "outputs": [],
   "source": [
    "from sources.protocol.port_socket import PortListener, PortClient\n",
    "\n",
    "from typhoon.utils import PlotConf, sniff, SequenceConfig, LISTENER_KEY, CLIENT_KEY, USER_TOKEN\n",
    "\n",
    "CONFIG = SequenceConfig(quiet=True)\n",
    "\n",
    "\n",
    "async with sniff(PlotConf(), r\"corrupt 30%\") as s:\n",
    "    async with PortListener(LISTENER_KEY, s.server_address).ctx(data_callback=CONFIG.seq_server_callback) as l:\n",
    "        async with PortClient(CLIENT_KEY, USER_TOKEN, s.server_address, l.port, s.client_address).ctx(CONFIG.seq_client_callback) as c:\n",
    "            await CONFIG.process(c)"
   ]
  }
 ],
 "metadata": {
  "kernelspec": {
   "display_name": "seasidevpn-algae-LNwBOaha-py3.12",
   "language": "python",
   "name": "python3"
  },
  "language_info": {
   "codemirror_mode": {
    "name": "ipython",
    "version": 3
   },
   "file_extension": ".py",
   "mimetype": "text/x-python",
   "name": "python",
   "nbconvert_exporter": "python",
   "pygments_lexer": "ipython3",
   "version": "3.12.3"
  }
 },
 "nbformat": 4,
 "nbformat_minor": 2
}
