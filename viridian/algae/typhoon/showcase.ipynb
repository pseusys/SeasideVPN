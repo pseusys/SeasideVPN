{
 "cells": [
  {
   "cell_type": "code",
   "execution_count": 1,
   "metadata": {},
   "outputs": [
    {
     "name": "stdout",
     "output_type": "stream",
     "text": [
      "j4IHLUpd+VeDGCbmB/xN7Sd2UwWqJWkwyYEb/8qE8WHL6RN7NvJxdK49NxY6HMz9QDwynt/8kZure68kkwbLVg==\n"
     ]
    }
   ],
   "source": [
    "from base64 import b64encode\n",
    "from os import environ\n",
    "from pathlib import Path\n",
    "from sys import path\n",
    "\n",
    "path.append(str(Path() / \"..\"))\n",
    "\n",
    "from python_on_whales import DockerClient\n",
    "\n",
    "from sources.utils.crypto import Asymmetric\n",
    "\n",
    "asymmetric = Asymmetric()\n",
    "CERTIFICATE = b\"j4IHLUpd+VeDGCbmB/xN7Sd2UwWqJWkwyYEb/8qE8WHL6RN7NvJxdK49NxY6HMz9QDwynt/8kZure68kkwbLVg==\"  # b64encode(asymmetric._private_key + asymmetric._public_key)\n",
    "\n",
    "environ[\"TYPHOON_CERTIFICATE\"] = CERTIFICATE.decode()\n",
    "print(CERTIFICATE.decode())"
   ]
  },
  {
   "cell_type": "code",
   "execution_count": null,
   "metadata": {},
   "outputs": [],
   "source": [
    "compose_file = Path() / \"docker\" / \"compose.yml\"\n",
    "docker = DockerClient(compose_files=[compose_file])\n",
    "docker.compose.up(build=True, wait=True, detach=True, abort_on_container_exit=False, quiet=False)"
   ]
  },
  {
   "cell_type": "code",
   "execution_count": 2,
   "metadata": {},
   "outputs": [
    {
     "name": "stdout",
     "output_type": "stream",
     "text": [
      "Connecting to listener at 127.0.0.1:12345\n",
      "Trying initialization attempt 0...\n",
      "Waiting for server response for 42.0 seconds...\n",
      "Connection successful!\n",
      "Connecting to server at 127.0.0.1:12345\n",
      "Installing reading data callback...\n",
      "Decay started, sleeping for 0 seconds...\n",
      "Reading started...\n",
      "Trying handshake shadowride attempt 0...\n",
      "Forcing handshake...\n",
      "Handshake sent, waiting for response for 212.0 seconds\n",
      "Peer packet read: 804 bytes\n",
      "Peer packet of type 64 received!\n",
      "Cancelling decay cycle...\n",
      "Decay started, sleeping for 78 seconds...\n",
      "Trying handshake shadowride attempt 0...\n",
      "Forcing handshake...\n",
      "Handshake sent, waiting for response for 142.0 seconds\n",
      "Peer packet read: 532 bytes\n",
      "Peer packet of type 64 received!\n",
      "Cancelling decay cycle...\n",
      "Decay started, sleeping for 144.0 seconds...\n",
      "Trying handshake shadowride attempt 0...\n",
      "Forcing handshake...\n",
      "Handshake sent, waiting for response for 29.5 seconds\n",
      "Peer packet read: 1017 bytes\n",
      "Peer packet of type 64 received!\n",
      "Cancelling decay cycle...\n",
      "Decay started, sleeping for 189.0 seconds...\n"
     ]
    },
    {
     "name": "stdout",
     "output_type": "stream",
     "text": [
      "Trying handshake shadowride attempt 0...\n",
      "Forcing handshake...\n",
      "Handshake sent, waiting for response for 255.625 seconds\n",
      "Peer packet read: 209 bytes\n",
      "Peer packet of type 64 received!\n",
      "Cancelling decay cycle...\n",
      "Decay started, sleeping for 27.875 seconds...\n",
      "Trying handshake shadowride attempt 0...\n",
      "Forcing handshake...\n",
      "Handshake sent, waiting for response for 98.34375 seconds\n",
      "Peer packet read: 553 bytes\n",
      "Peer packet of type 64 received!\n",
      "Cancelling decay cycle...\n",
      "Decay started, sleeping for 247.890625 seconds...\n",
      "Trying handshake shadowride attempt 0...\n",
      "Forcing handshake...\n",
      "Handshake sent, waiting for response for 44.1484375 seconds\n",
      "Peer packet read: 78 bytes\n",
      "Peer packet of type 64 received!\n",
      "Cancelling decay cycle...\n",
      "Decay started, sleeping for 235.904296875 seconds...\n",
      "Trying handshake shadowride attempt 0...\n",
      "Forcing handshake...\n",
      "Handshake sent, waiting for response for 102.234375 seconds\n",
      "Peer packet read: 638 bytes\n",
      "Peer packet of type 64 received!\n",
      "Cancelling decay cycle...\n",
      "Decay started, sleeping for 189.916259765625 seconds...\n",
      "Trying handshake shadowride attempt 0...\n",
      "Forcing handshake...\n",
      "Handshake sent, waiting for response for 62.533447265625 seconds\n",
      "Peer packet read: 345 bytes\n",
      "Peer packet of type 64 received!\n",
      "Cancelling decay cycle...\n",
      "Decay started, sleeping for 25.926727294921875 seconds...\n",
      "Trying handshake shadowride attempt 0...\n",
      "Forcing handshake...\n",
      "Handshake sent, waiting for response for 98.99429321289062 seconds\n",
      "Peer packet read: 766 bytes\n",
      "Peer packet of type 64 received!\n",
      "Cancelling decay cycle...\n",
      "Decay started, sleeping for 157.93588638305664 seconds...\n",
      "Trying handshake shadowride attempt 0...\n",
      "Forcing handshake...\n",
      "Handshake sent, waiting for response for 80.57815170288086 seconds\n",
      "Peer packet read: 189 bytes\n",
      "Peer packet of type 64 received!\n",
      "Cancelling decay cycle...\n",
      "Decay started, sleeping for 178.94390058517456 seconds...\n",
      "Trying handshake shadowride attempt 0...\n",
      "Forcing handshake...\n",
      "Handshake sent, waiting for response for 88.25574159622192 seconds\n",
      "Peer packet read: 128 bytes\n",
      "Peer packet of type 64 received!\n",
      "Cancelling decay cycle...\n",
      "Decay started, sleeping for 61.95091301202774 seconds...\n",
      "Trying handshake shadowride attempt 0...\n",
      "Forcing handshake...\n",
      "Handshake sent, waiting for response for 192.00491803884506 seconds\n",
      "Peer packet read: 185 bytes\n",
      "Peer packet of type 64 received!\n",
      "Cancelling decay cycle...\n",
      "Decay started, sleeping for 194.95704888552427 seconds...\n",
      "Trying handshake shadowride attempt 0...\n",
      "Forcing handshake...\n",
      "Handshake sent, waiting for response for 22.80891139060259 seconds\n",
      "Peer packet read: 451 bytes\n",
      "Peer packet of type 64 received!\n",
      "Cancelling decay cycle...\n",
      "Decay started, sleeping for 75.83741777483374 seconds...\n",
      "Trying handshake shadowride attempt 0...\n",
      "Forcing handshake...\n",
      "Handshake sent, waiting for response for 79.69410131778568 seconds\n",
      "Peer packet read: 171 bytes\n",
      "Peer packet of type 64 received!\n",
      "Cancelling decay cycle...\n",
      "Decay started, sleeping for 216.85774055297952 seconds...\n",
      "Trying handshake shadowride attempt 0...\n",
      "Forcing handshake...\n",
      "Handshake sent, waiting for response for 12.453480991651304 seconds\n",
      "Peer packet read: 633 bytes\n",
      "Peer packet of type 64 received!\n",
      "Cancelling decay cycle...\n",
      "Decay started, sleeping for 81.87552298385708 seconds...\n",
      "Trying handshake shadowride attempt 0...\n",
      "Forcing handshake...\n",
      "Handshake sent, waiting for response for 168.25015262163652 seconds\n",
      "Trying handshake shadowride attempt 1...\n",
      "Forcing handshake...\n",
      "Handshake sent, waiting for response for 166.25015262163652 seconds\n",
      "[Errno 111] Connection refused\n",
      "Trying handshake shadowride attempt 2...\n",
      "Forcing handshake...\n",
      "Handshake sent, waiting for response for 128.25015262163652 seconds\n",
      "Trying handshake shadowride attempt 3...\n",
      "Forcing handshake...\n"
     ]
    }
   ],
   "source": [
    "from asyncio import sleep\n",
    "from base64 import b64decode\n",
    "from ipaddress import IPv4Address\n",
    "from sources.typhoon.socket import TyphoonClient\n",
    "\n",
    "\n",
    "async def callback(data: bytes) -> None:\n",
    "    print(f\"Received data from server: {data}\")\n",
    "\n",
    "\n",
    "socket = TyphoonClient(b64decode(CERTIFICATE)[32:], b\"User token!\", IPv4Address(\"127.0.0.1\"), 12345)\n",
    "await socket.connect(callback)\n",
    "\n",
    "await sleep(600)"
   ]
  },
  {
   "cell_type": "code",
   "execution_count": null,
   "metadata": {},
   "outputs": [],
   "source": [
    "docker.compose.logs(\"typhoon-server\")"
   ]
  },
  {
   "cell_type": "code",
   "execution_count": 18,
   "metadata": {},
   "outputs": [],
   "source": [
    "docker.compose.kill(signal=\"SIGINT\")"
   ]
  }
 ],
 "metadata": {
  "kernelspec": {
   "display_name": "seasidevpn-algae-LNwBOaha-py3.12",
   "language": "python",
   "name": "python3"
  },
  "language_info": {
   "codemirror_mode": {
    "name": "ipython",
    "version": 3
   },
   "file_extension": ".py",
   "mimetype": "text/x-python",
   "name": "python",
   "nbconvert_exporter": "python",
   "pygments_lexer": "ipython3",
   "version": "3.12.3"
  }
 },
 "nbformat": 4,
 "nbformat_minor": 2
}
