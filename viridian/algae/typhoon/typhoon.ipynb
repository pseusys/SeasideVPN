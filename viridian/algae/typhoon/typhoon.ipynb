{
 "cells": [
  {
   "cell_type": "markdown",
   "metadata": {},
   "source": [
    "# TYPHOON protocol showcase"
   ]
  },
  {
   "cell_type": "markdown",
   "metadata": {},
   "source": [
    "Some of the system packages required for this notebook, including: `ip-route`, `tc`"
   ]
  },
  {
   "cell_type": "markdown",
   "metadata": {},
   "source": [
    "Use the following cell to configure TYPHOON hyperparameters with environmental variables.\n",
    "\n",
    "> NB! It should be run *prior* to all the other cells, since hyperparameters are being resolved only once upon `TyphoonCore` class import."
   ]
  },
  {
   "cell_type": "code",
   "execution_count": null,
   "metadata": {},
   "outputs": [],
   "source": [
    "from os import environ\n",
    "\n",
    "environ[\"TYPHOON_MIN_TIMEOUT\"] = str(1)\n",
    "environ[\"TYPHOON_MAX_TIMEOUT\"] = str(4)\n",
    "environ[\"TYPHOON_DEFAULT_TIMEOUT\"] = str(3)\n",
    "environ[\"TYPHOON_MIN_NEXT_IN\"] = str(8.0)\n",
    "environ[\"TYPHOON_MAX_NEXT_IN\"] = str(32.0)\n",
    "environ[\"TYPHOON_MAX_RETRIES\"] = str(3)"
   ]
  },
  {
   "cell_type": "markdown",
   "metadata": {},
   "source": [
    "This notebook requires some extra capabilities being applied to your `python` executable and also added to the `JuPyter` server process.\n",
    "Don't worry: everything can be done just in a few steps.\n",
    "\n",
    "> Why are these capabilities needed?\n",
    "> Well, let's say for \"safety\" reasons.\n",
    "> We do not want to apply **tc** (traffic control) commands directly to the loopback interface, right?\n",
    "> That's why we need a pair of virtual interfaces with virtual IPs (`veth`s), so that we can apply fine-grained filters.\n",
    "> And creating these interfaces requires some permissions.\n",
    "\n",
    "First of all, the following cell should be executed before any other notebook cells (it might throw an error!):"
   ]
  },
  {
   "cell_type": "code",
   "execution_count": null,
   "metadata": {},
   "outputs": [],
   "source": [
    "from pathlib import Path\n",
    "from sys import path\n",
    "\n",
    "path.append(str(Path() / \"..\"))\n",
    "\n",
    "from typhoon.utils import configure_ambient_permissions\n",
    "\n",
    "configure_ambient_permissions()"
   ]
  },
  {
   "cell_type": "markdown",
   "metadata": {},
   "source": [
    "If the previous cell has thrown an error, that means that your `python` executable does not have `CAP_NET_ADMIN` and `CAP_NET_RAW` right now.\n",
    "This can be solved by either of these three solutions:\n",
    "\n",
    "1. Run the server in a `Docker` container (either `privileged` or with `CAP_NET_ADMIN` set) - the dockerfile is *not* provided.\n",
    "2. Run the following cell to patch your current python executable (don't forget to run the next cell when you're done!).\n",
    "3. Run the server with `sudo` (might be dangerous and not recommended!).\n",
    "\n",
    "Whatever way you have chosen, the kernel should be restarted."
   ]
  },
  {
   "cell_type": "code",
   "execution_count": null,
   "metadata": {},
   "outputs": [],
   "source": [
    "from typhoon.utils import toggle_network_permissions\n",
    "\n",
    "toggle_network_permissions(True)"
   ]
  },
  {
   "cell_type": "markdown",
   "metadata": {},
   "source": [
    "Run this cell after you finished working with the notebook - it will unpatch you `python` executable."
   ]
  },
  {
   "cell_type": "code",
   "execution_count": null,
   "metadata": {},
   "outputs": [],
   "source": [
    "from typhoon.utils import toggle_network_permissions\n",
    "\n",
    "toggle_network_permissions(False)"
   ]
  },
  {
   "cell_type": "markdown",
   "metadata": {},
   "source": [
    "## Ideal connection"
   ]
  },
  {
   "cell_type": "markdown",
   "metadata": {},
   "source": [
    "First and foremost, TYPHOON is designed to be **random**.\n",
    "That includes:\n",
    "\n",
    "1. Randomly-looking packet contents.\n",
    "2. Random packet lengths.\n",
    "3. Random delays between packets.\n",
    "\n",
    "#### Packet contents\n",
    "\n",
    "Packet content randomness is achieved by encryption.\n",
    "Packets are encrypted completely, TYPHOON uses distinct keys for host-port pairs (provided by UDP header).\n",
    "That is the baseline, some other hiding techniques might be added later (if needed).\n",
    "\n",
    "#### Packet lengths\n",
    "\n",
    "Packet length randomness is achieved by attaching a random tail to every package.\n",
    "Packet length will be displayed in bar charts below as *bar heights*.\n",
    "\n",
    "#### Packet delays\n",
    "\n",
    "Packet delays randomness is achieved by applying a random timeout between service packets.\n",
    "NB! This timeout is not applied to data packets, so in examples below you will usually see them as pairs."
   ]
  },
  {
   "cell_type": "markdown",
   "metadata": {},
   "source": [
    "Simple sanity check here.\n",
    "Client connects to echo server, sends it a small package, receives response, checks it's the same and exits.\n",
    "\n",
    "First two packets should be initialization packets, then we expect to observe a shadowride request packet (data + handshake) and a data response packet.\n",
    "Last two packets should be termination packets.\n",
    "\n",
    "As a result, a small sequence diagram is produced, showing packet exchange, their direction, size and timestamp."
   ]
  },
  {
   "cell_type": "code",
   "execution_count": null,
   "metadata": {},
   "outputs": [],
   "source": [
    "from sources.protocol.typhoon_socket import TyphoonListener, TyphoonClient\n",
    "from sources.protocol.utils import ProtocolReturnCode\n",
    "\n",
    "from typhoon.utils import GraphConf, sniff, LISTENER_KEY, CLIENT_KEY, USER_TOKEN\n",
    "\n",
    "\n",
    "async def echo_server_callback(user_id: int, data: bytes) -> bytes:\n",
    "    print(f\"Received data from client {user_id}: {data}\")\n",
    "    return data\n",
    "\n",
    "\n",
    "async def success_listener_callback(name: str, token: bytes) -> ProtocolReturnCode:\n",
    "    print(f\"Initialized client '{name}' with token: {token}\")\n",
    "    return ProtocolReturnCode.SUCCESS\n",
    "\n",
    "\n",
    "async with sniff(GraphConf()) as s:\n",
    "    async with TyphoonListener(LISTENER_KEY, s.server_address).ctx(success_listener_callback, echo_server_callback) as l:\n",
    "        async with TyphoonClient(CLIENT_KEY, USER_TOKEN, s.server_address, l.port, s.client_address).ctx() as c:\n",
    "            request = b\"Hi server!\"\n",
    "            await c.write(request)\n",
    "            response = await c.read()\n",
    "            assert(request == response)"
   ]
  },
  {
   "cell_type": "markdown",
   "metadata": {},
   "source": [
    "Stale connection is shown here.\n",
    "Client is connected to server, waits for some time and disappears.\n",
    "Server tries to restore connection, but fails and closes it after some time.\n",
    "\n",
    "First two packets should be initialization packets, then several successful handshakes should happen.\n",
    "Finally, some unsuccessful handshake attempts by server should be present - and finally a termination packet.\n",
    "\n",
    "As a result, a small packet plot is produced, showing packet exchange, their type, size and timestamp."
   ]
  },
  {
   "cell_type": "code",
   "execution_count": null,
   "metadata": {},
   "outputs": [],
   "source": [
    "from asyncio import sleep\n",
    "from os import environ\n",
    "\n",
    "from sources.protocol.typhoon_socket import TyphoonListener, TyphoonClient\n",
    "\n",
    "from typhoon.utils import PlotConf, sniff, LISTENER_KEY, CLIENT_KEY, USER_TOKEN\n",
    "\n",
    "SLEEP_DELAY = (float(environ[\"TYPHOON_MAX_NEXT_IN\"]) + float(environ[\"TYPHOON_MAX_TIMEOUT\"])) * 5\n",
    "TIMEOUT_DELAY = float(environ[\"TYPHOON_MAX_NEXT_IN\"]) * (float(environ[\"TYPHOON_MAX_RETRIES\"]) + 1)\n",
    "\n",
    "\n",
    "async with sniff(PlotConf()) as s:\n",
    "    async with TyphoonListener(LISTENER_KEY, s.server_address).ctx(data_callback=lambda _: None) as l:\n",
    "        async with TyphoonClient(CLIENT_KEY, USER_TOKEN, s.server_address, l.port, s.client_address).ctx(lambda _: None, False) as c:\n",
    "            print(f\"Connection established! Sleeping for {SLEEP_DELAY}...\")\n",
    "            await sleep(SLEEP_DELAY)\n",
    "        print(f\"Connection interrupted! Waiting for {TIMEOUT_DELAY}...\")\n",
    "        await sleep(TIMEOUT_DELAY)"
   ]
  },
  {
   "cell_type": "markdown",
   "metadata": {},
   "source": [
    "Successful connection is shown here.\n",
    "Client is connected to server, they exchange data packets every second.\n",
    "In the end, the connection is terminated successfully.\n",
    "\n",
    "First two packets should be initialization packets, last two packets should be termination packets.\n",
    "In between, multiple data and shadowride packages should be observable.\n",
    "Because of the frequent data exchange, no pure handshake packets should be there.\n",
    "\n",
    "As a result, a small packet plot is produced, showing packet exchange, their type and size.\n",
    "The receiving time is omitted."
   ]
  },
  {
   "cell_type": "code",
   "execution_count": null,
   "metadata": {},
   "outputs": [],
   "source": [
    "from sources.protocol.typhoon_socket import TyphoonListener, TyphoonClient\n",
    "\n",
    "from typhoon.utils import PlotConf, sniff, SequenceConfig, LISTENER_KEY, CLIENT_KEY, USER_TOKEN\n",
    "\n",
    "CONFIG = SequenceConfig(messages=96, quiet=True, client_sequence=lambda _: 1, server_sequence=lambda _: 0)\n",
    "\n",
    "\n",
    "async with sniff(PlotConf(expand_time=False)) as s:\n",
    "    async with TyphoonListener(LISTENER_KEY, s.server_address).ctx(data_callback=CONFIG.seq_server_callback, log_level=10) as l:\n",
    "        async with TyphoonClient(CLIENT_KEY, USER_TOKEN, s.server_address, l.port, s.client_address).ctx(CONFIG.seq_client_callback, log_level=10) as c:\n",
    "            await CONFIG.process(c)"
   ]
  },
  {
   "cell_type": "markdown",
   "metadata": {},
   "source": [
    "## Network in chaos"
   ]
  },
  {
   "cell_type": "markdown",
   "metadata": {},
   "source": [
    "normal"
   ]
  },
  {
   "cell_type": "code",
   "execution_count": null,
   "metadata": {},
   "outputs": [],
   "source": [
    "from sources.protocol.typhoon_socket import TyphoonListener, TyphoonClient\n",
    "\n",
    "from typhoon.utils import PlotConf, sniff, SequenceConfig, LISTENER_KEY, CLIENT_KEY, USER_TOKEN\n",
    "\n",
    "CONFIG = SequenceConfig()\n",
    "\n",
    "\n",
    "async with sniff(PlotConf()) as s:\n",
    "    async with TyphoonListener(LISTENER_KEY, s.server_address).ctx(data_callback=CONFIG.seq_server_callback, log_level=10) as l:\n",
    "        async with TyphoonClient(CLIENT_KEY, USER_TOKEN, s.server_address, l.port, s.client_address).ctx(CONFIG.seq_client_callback, log_level=10) as c:\n",
    "            await CONFIG.process(c)"
   ]
  },
  {
   "cell_type": "markdown",
   "metadata": {},
   "source": [
    "jitter"
   ]
  },
  {
   "cell_type": "code",
   "execution_count": null,
   "metadata": {},
   "outputs": [],
   "source": [
    "from asyncio import sleep\n",
    "\n",
    "from sources.protocol.typhoon_socket import TyphoonListener, TyphoonClient\n",
    "\n",
    "from typhoon.utils import PlotConf, sniff, SequenceConfig, LISTENER_KEY, CLIENT_KEY, USER_TOKEN\n",
    "\n",
    "CONFIG = SequenceConfig()\n",
    "\n",
    "\n",
    "async with sniff(PlotConf(), r\"delay 100ms 75ms\") as s:\n",
    "    async with TyphoonListener(LISTENER_KEY, s.server_address).ctx(data_callback=CONFIG.seq_server_callback, log_level=10) as l:\n",
    "        async with TyphoonClient(CLIENT_KEY, USER_TOKEN, s.server_address, l.port, s.client_address).ctx(CONFIG.seq_client_callback, log_level=10) as c:\n",
    "            await CONFIG.process(c)\n",
    "            await sleep(CONFIG.base_delay() * 4)"
   ]
  },
  {
   "cell_type": "markdown",
   "metadata": {},
   "source": [
    "drop\n",
    "\n",
    "> WARNING! The following cell might fail in approximately 3% of the runs!"
   ]
  },
  {
   "cell_type": "code",
   "execution_count": null,
   "metadata": {},
   "outputs": [],
   "source": [
    "from sources.protocol.typhoon_socket import TyphoonListener, TyphoonClient\n",
    "\n",
    "from typhoon.utils import PlotConf, sniff, SequenceConfig, LISTENER_KEY, CLIENT_KEY, USER_TOKEN\n",
    "\n",
    "CONFIG = SequenceConfig()\n",
    "\n",
    "\n",
    "async with sniff(PlotConf(), r\"loss 30%\") as s:\n",
    "    async with TyphoonListener(LISTENER_KEY, s.server_address).ctx(data_callback=CONFIG.seq_server_callback, log_level=10) as l:\n",
    "        async with TyphoonClient(CLIENT_KEY, USER_TOKEN, s.server_address, l.port, s.client_address).ctx(CONFIG.seq_client_callback, log_level=10) as c:\n",
    "            await CONFIG.process(c)"
   ]
  },
  {
   "cell_type": "markdown",
   "metadata": {},
   "source": [
    "duplicate"
   ]
  },
  {
   "cell_type": "code",
   "execution_count": null,
   "metadata": {},
   "outputs": [],
   "source": [
    "from sources.protocol.typhoon_socket import TyphoonListener, TyphoonClient\n",
    "\n",
    "from typhoon.utils import PlotConf, sniff, SequenceConfig, LISTENER_KEY, CLIENT_KEY, USER_TOKEN\n",
    "\n",
    "CONFIG = SequenceConfig()\n",
    "\n",
    "\n",
    "async with sniff(PlotConf(), r\"duplicate 30%\") as s:\n",
    "    async with TyphoonListener(LISTENER_KEY, s.server_address).ctx(data_callback=CONFIG.seq_server_callback, log_level=10) as l:\n",
    "        async with TyphoonClient(CLIENT_KEY, USER_TOKEN, s.server_address, l.port, s.client_address).ctx(CONFIG.seq_client_callback, log_level=10) as c:\n",
    "            await CONFIG.process(c)"
   ]
  },
  {
   "cell_type": "markdown",
   "metadata": {},
   "source": [
    "reorder"
   ]
  },
  {
   "cell_type": "code",
   "execution_count": null,
   "metadata": {},
   "outputs": [],
   "source": [
    "from asyncio import sleep\n",
    "\n",
    "from sources.protocol.typhoon_socket import TyphoonListener, TyphoonClient\n",
    "\n",
    "from typhoon.utils import PlotConf, sniff, SequenceConfig, LISTENER_KEY, CLIENT_KEY, USER_TOKEN\n",
    "\n",
    "CONFIG = SequenceConfig()\n",
    "\n",
    "\n",
    "async with sniff(PlotConf(), r\"delay 125ms reorder 30% 50%\") as s:\n",
    "    async with TyphoonListener(LISTENER_KEY, s.server_address).ctx(data_callback=CONFIG.seq_server_callback, log_level=10) as l:\n",
    "        async with TyphoonClient(CLIENT_KEY, USER_TOKEN, s.server_address, l.port, s.client_address).ctx(CONFIG.seq_client_callback, log_level=10) as c:\n",
    "            await CONFIG.process(c)\n",
    "            await sleep(CONFIG.base_delay() * 2.5)"
   ]
  },
  {
   "cell_type": "markdown",
   "metadata": {},
   "source": [
    "corrupt"
   ]
  },
  {
   "cell_type": "code",
   "execution_count": null,
   "metadata": {},
   "outputs": [],
   "source": [
    "from sources.protocol.typhoon_socket import TyphoonListener, TyphoonClient\n",
    "\n",
    "from typhoon.utils import PlotConf, sniff, SequenceConfig, LISTENER_KEY, CLIENT_KEY, USER_TOKEN\n",
    "\n",
    "CONFIG = SequenceConfig(quiet=True)\n",
    "\n",
    "\n",
    "async with sniff(PlotConf(), r\"corrupt 30%\") as s:\n",
    "    async with TyphoonListener(LISTENER_KEY, s.server_address).ctx(data_callback=CONFIG.seq_server_callback, log_level=10) as l:\n",
    "        async with TyphoonClient(CLIENT_KEY, USER_TOKEN, s.server_address, l.port, s.client_address).ctx(CONFIG.seq_client_callback, log_level=10) as c:\n",
    "            await CONFIG.process(c)"
   ]
  }
 ],
 "metadata": {
  "kernelspec": {
   "display_name": "seasidevpn-algae-LNwBOaha-py3.12",
   "language": "python",
   "name": "python3"
  },
  "language_info": {
   "codemirror_mode": {
    "name": "ipython",
    "version": 3
   },
   "file_extension": ".py",
   "mimetype": "text/x-python",
   "name": "python",
   "nbconvert_exporter": "python",
   "pygments_lexer": "ipython3",
   "version": "3.12.3"
  }
 },
 "nbformat": 4,
 "nbformat_minor": 2
}
